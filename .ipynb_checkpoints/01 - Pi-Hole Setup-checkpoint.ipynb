{
 "cells": [
  {
   "cell_type": "markdown",
   "id": "8017f6db-d9c4-4204-8200-f3e94128214b",
   "metadata": {},
   "source": [
    "# Pi-Hole on Raspberry Pi"
   ]
  },
  {
   "cell_type": "markdown",
   "id": "4e5936c9-3008-4e7e-88dd-00dc580419c9",
   "metadata": {},
   "source": [
    "First use `Raspberry Pi Imager` to burn an SD card. Customize the image before burning it.\n",
    "- set the hostname\n",
    "- create the user and password\n",
    "- turn on `ssh` and disable password connections\n",
    "- **add public ssh keys** for client connections\n",
    "\n",
    "Once the SD card is ready, plug it into the Raspberry Pi and boot it up.\n",
    "\n",
    "Login with `ssh`."
   ]
  },
  {
   "cell_type": "code",
   "execution_count": 1,
   "id": "b8d4a41d-9baa-4e66-9660-fdb411b8b9f1",
   "metadata": {},
   "outputs": [
    {
     "name": "stdout",
     "output_type": "stream",
     "text": [
      "[ssh] Login to pihole...\n",
      "[ssh] host=pihole hostname=10.0.1.11 other_conf={'user': 'samyules', 'port': None, 'keyfile': ['/home/jovyan/.ssh/pi-hole-rsa'], 'load_system_ssh_config': False, 'missing_host_policy': <paramiko.client.WarningPolicy object at 0x7f4e701e9390>}\n",
      "[ssh] Successfully logged in.\n"
     ]
    }
   ],
   "source": [
    "%login pihole"
   ]
  },
  {
   "cell_type": "markdown",
   "id": "f1e55539-d47c-4d55-9bf4-db9fcf8f072d",
   "metadata": {},
   "source": [
    "## Install [log2ram](https://github.com/azlux/log2ram)\n",
    "After first boot, install log2ram. This will increase the lifespan of the SD card by reducing the number of writes. It mounts the log directory to RAM, and writes logs to the SD card once a day."
   ]
  },
  {
   "cell_type": "markdown",
   "id": "644bc19b-5fcb-4acc-a736-a628f4394b70",
   "metadata": {},
   "source": [
    "### Install via APT (recommended)\n",
    "Reboot after installing"
   ]
  },
  {
   "cell_type": "code",
   "execution_count": null,
   "id": "3185dec4-7abf-4a2f-bb5a-76a826e399bf",
   "metadata": {},
   "outputs": [],
   "source": [
    "echo \"deb [signed-by=/usr/share/keyrings/azlux-archive-keyring.gpg] http://packages.azlux.fr/debian/ bookworm main\" | sudo tee /etc/apt/sources.list.d/azlux.list\n",
    "sudo wget -O /usr/share/keyrings/azlux-archive-keyring.gpg  https://azlux.fr/repo.gpg\n",
    "sudo apt update\n",
    "sudo apt install log2ram"
   ]
  },
  {
   "cell_type": "markdown",
   "id": "04658689-1df8-4b2c-9d9e-1c9b2ae07b72",
   "metadata": {},
   "source": [
    "### Check if it is working"
   ]
  },
  {
   "cell_type": "code",
   "execution_count": null,
   "id": "a68f9d1b-6025-4c36-ad1e-332760fefa28",
   "metadata": {},
   "outputs": [],
   "source": [
    "sudo systemctl status log2ram"
   ]
  },
  {
   "cell_type": "markdown",
   "id": "6ac2cd96-0ee8-4aef-9a43-6ebd8e69a6b4",
   "metadata": {},
   "source": [
    "Or run the following and it should output something similar."
   ]
  },
  {
   "cell_type": "code",
   "execution_count": 2,
   "id": "01f441fd-b85e-44ea-adb3-9160e40f6215",
   "metadata": {},
   "outputs": [
    {
     "name": "stdout",
     "output_type": "stream",
     "text": [
      "[ssh] host = pihole, cwd = /home/samyules\n",
      "log2ram          40M   40M  400K 100% /var/log\n"
     ]
    }
   ],
   "source": [
    "df -h | grep log2ram\n",
    "# log2ram          40M  532K   40M   2% /var/log"
   ]
  },
  {
   "cell_type": "markdown",
   "id": "67d00e5a-8320-419d-b504-e1f0e8e7f0e3",
   "metadata": {},
   "source": [
    "## Install [Pi-hole](https://pi-hole.net)\n",
    "Ensure that the you have a static IP address set before running the script."
   ]
  },
  {
   "cell_type": "markdown",
   "id": "3d73a510-097e-4256-a6ff-5eef174cb01f",
   "metadata": {},
   "source": [
    "### Run the script"
   ]
  },
  {
   "cell_type": "code",
   "execution_count": null,
   "id": "d7a251ab-f5ac-4cfc-8bb9-64c51c240ac1",
   "metadata": {},
   "outputs": [],
   "source": [
    "curl -sSL https://install.pi-hole.net | bash"
   ]
  },
  {
   "cell_type": "markdown",
   "id": "43715600-bd6b-447c-b11d-43443d8887c5",
   "metadata": {},
   "source": [
    "After installing you can set pi-hole as your dns for your network."
   ]
  },
  {
   "cell_type": "markdown",
   "id": "3bae290e-4c9c-4c9f-8fd0-b9b9977fc718",
   "metadata": {},
   "source": [
    "## Follow On"
   ]
  },
  {
   "cell_type": "markdown",
   "id": "72362f6d-ab19-4710-a017-965d0ae893ef",
   "metadata": {},
   "source": [
    "### Add local wildcard servers to dnsmasq"
   ]
  },
  {
   "cell_type": "markdown",
   "id": "744acfbc-a067-43b9-9d2c-b257611aad7c",
   "metadata": {},
   "source": [
    "Pi-hole does not allow setting wildcard DNS records through the web interface. However, it is possible to do manually through a `dnsmasq` config file. Create a config file in `/etc/dnsmasq.d/`. Name it something like `99-reverse-proxy-web-servers.conf`. The contents should look like this:"
   ]
  },
  {
   "cell_type": "code",
   "execution_count": null,
   "id": "583d4b55-ceff-4e9c-aba5-efd5e166f0f6",
   "metadata": {},
   "outputs": [],
   "source": [
    "address=/revproxy.my.lan/192.168.0.42"
   ]
  },
  {
   "cell_type": "markdown",
   "id": "4dbf689a-cae4-4e70-9d18-0222ff272ff6",
   "metadata": {},
   "source": [
    "This will cause that domain and *all* of it's subdomains to resolve to the same ip address. e.g. `dig plex.revproxy.my.lan` and `dig revproxy.my.lan` will both result in `192.168.0.42`."
   ]
  },
  {
   "cell_type": "markdown",
   "id": "b895a890-e5b2-4c46-936b-6d441045e564",
   "metadata": {},
   "source": [
    "Reference: Answer on [discourse.pi-hole.net](https://discourse.pi-hole.net/t/support-wildcards-in-local-dns-records/32098/12)"
   ]
  },
  {
   "cell_type": "markdown",
   "id": "9c4c2427-d4d7-498d-85dc-4f15d19052f5",
   "metadata": {},
   "source": [
    "### Manually set rasperry pi DNS settings"
   ]
  },
  {
   "cell_type": "markdown",
   "id": "3b721f02-85c7-4071-821a-f798b06ad2c5",
   "metadata": {},
   "source": [
    "The Raspberry Pi host should first search `localhost` for dns. Here is how to change the settings and set static dns.\n",
    "\n",
    "Raspberry Pi OS uses `NetworkManager` by default to manage network connections. `nmcli` is included in the distro, and you can use it to manually change dns settings. Here is the command to manually change dns settings for a network connection: (first find `$connectionName` by running `nmcli con`."
   ]
  },
  {
   "cell_type": "code",
   "execution_count": 12,
   "id": "6562c9d7-aa88-41f4-ab24-171159b40d9f",
   "metadata": {},
   "outputs": [
    {
     "name": "stdout",
     "output_type": "stream",
     "text": [
      "[ssh] host = pihole, cwd = /home/samyules\n",
      "NAME                UUID                                  TYPE      DEVICE \n",
      "Wired connection 1  4ded1b11-5abf-3c83-9de0-1316b0e44fa8  ethernet  eth0   \n",
      "lo                  82e09958-221d-4d79-93de-2d4efd9f7f02  loopback  lo     \n"
     ]
    }
   ],
   "source": [
    "nmcli con"
   ]
  },
  {
   "cell_type": "code",
   "execution_count": null,
   "id": "2ac136af-96eb-44a1-81e6-22bea5e1ff2e",
   "metadata": {},
   "outputs": [],
   "source": [
    "connectionName='Wired connection 1'"
   ]
  },
  {
   "cell_type": "code",
   "execution_count": null,
   "id": "1c06f05f-52e7-411d-8bb9-3b1714e37e46",
   "metadata": {},
   "outputs": [],
   "source": [
    "sudo nmcli con mod 'Wired connection 1' ipv4.dns \"127.0.0.1 8.8.8.8 8.8.4.4\""
   ]
  },
  {
   "cell_type": "markdown",
   "id": "90dd534c-d965-452f-b83d-e4a74576a16b",
   "metadata": {},
   "source": [
    "If you want to ignore automatically configured nameservers and search domains from the DHCP server then run this:"
   ]
  },
  {
   "cell_type": "code",
   "execution_count": null,
   "id": "a59c466d-63a3-49d6-afa7-2460d4bc3566",
   "metadata": {},
   "outputs": [],
   "source": [
    "sudo nmcli con mod $connectionName ipv4.ignore-auto-dns yes"
   ]
  },
  {
   "cell_type": "markdown",
   "id": "42e4ae27-586f-4a75-ac25-3a710ae3188e",
   "metadata": {},
   "source": [
    "Not 100% sure what this does, but it's in the [ArchLinux wiki](https://wiki.archlinux.org/title/Dnsmasq)."
   ]
  },
  {
   "cell_type": "code",
   "execution_count": null,
   "id": "0c2829fc-22e6-43ff-8f20-5d48efd1937d",
   "metadata": {},
   "outputs": [],
   "source": [
    "sudo nmcli con mod $connectionName ipv4.dns-options trust-ad"
   ]
  },
  {
   "cell_type": "markdown",
   "id": "17496a45-7f1e-4e00-af85-2f5844dac16a",
   "metadata": {},
   "source": [
    "Next, rinse and repeat with ipv6."
   ]
  },
  {
   "cell_type": "code",
   "execution_count": null,
   "id": "88cd8171-b64f-4f44-aeb0-00e1d86a07fd",
   "metadata": {},
   "outputs": [],
   "source": [
    "sudo nmcli con mod $connectionName ipv6.dns ::1 #ipv6 localhost\n",
    "sudo nmcli con mod $connectionName ipv6.dns-settings trust-ad\n",
    "sudo nmcli con mod $connectionName ipv6.ignore-auto-dns yes"
   ]
  },
  {
   "cell_type": "markdown",
   "id": "169a33ed-1685-46d8-adc0-25ec1438d689",
   "metadata": {},
   "source": [
    "To enable the changes, **restart the *NetworkManager* service**."
   ]
  },
  {
   "cell_type": "code",
   "execution_count": null,
   "id": "bc6af8a2-f3d2-4af4-95a9-65b6c2479a55",
   "metadata": {},
   "outputs": [],
   "source": [
    "sudo systemctl restart NetworkManager"
   ]
  },
  {
   "cell_type": "markdown",
   "id": "39bbb981-92fb-46ee-be06-afb8e0d0b82a",
   "metadata": {},
   "source": [
    "Verify that your settings now appear in `resolv.conf`. Don't make changes manually to this file. It is managed by `NetworkManager`."
   ]
  },
  {
   "cell_type": "code",
   "execution_count": null,
   "id": "d7659824-9b30-450f-80c4-66131a524b7a",
   "metadata": {},
   "outputs": [],
   "source": [
    "cat /etc/resolv.conf"
   ]
  },
  {
   "cell_type": "markdown",
   "id": "a889e73e-13c7-4009-a606-f3451690baf6",
   "metadata": {},
   "source": [
    "###### Reference: [ServerFault](https://serverfault.com/a/810639)"
   ]
  },
  {
   "cell_type": "markdown",
   "id": "f70b4495-decc-4b78-bc50-389a8df319dc",
   "metadata": {},
   "source": [
    "### IPV6 Static*(ish)* Addresses\n",
    "IPV6 is kind of a pain in the @$$. Comcast give me a /64 prefix delegation. Basically the first half of the address belongs to Comcast. The second half of the address is set by my router. Looks like this:\n",
    "\n",
    "- **2601:681:8b00:7e70**:*3899:8dcd:3aa9:ce90*\n",
    "- So, you've got the **Comcast Prefix** then the rest *assigned by router*\n",
    "\n",
    "The problem is that Comcast can (*and probably will*) change the prefix whenever they want. IPV6 is designed to protect privacy. Addresses are not fixed, and the second half of the address will change on an interval, which means that the default configuration will cause the address to drop and get replaced with a new one all the time. I found a semi-solution that I will outline."
   ]
  },
  {
   "cell_type": "markdown",
   "id": "d334bc79-25c0-4751-bdb7-eaf95beebde4",
   "metadata": {},
   "source": [
    "##### IPV6 Token\n",
    "This solves 50% of the problem. I cannot due anything about Comcast changing the prefix. The first half of the IPv6 address will change whenever Comcast wants. However, I can change the privacy mode of the interface, and get a static token for the second half of the address. Like so:"
   ]
  },
  {
   "cell_type": "code",
   "execution_count": null,
   "id": "754c84f4-1d41-4a69-8d80-7a7ef7cd14cf",
   "metadata": {},
   "outputs": [],
   "source": [
    "nmcli con mod $connectionName ipv6.addr-gen-mode eui64\n",
    "nmcli con mod $connectionName ipv6.token ::deca:fbad:c0:ffee"
   ]
  },
  {
   "cell_type": "markdown",
   "id": "d0a5ac83-a6a0-44f8-b83a-88441f40f530",
   "metadata": {},
   "source": [
    "The token can be whatever you want it to be. It is the last 4 octets of the IPv6 address. \n",
    "\n",
    "Now **restart NetworkManager**."
   ]
  },
  {
   "cell_type": "code",
   "execution_count": null,
   "id": "a0fd2717-0e14-426e-af4d-586ff886cc3a",
   "metadata": {},
   "outputs": [],
   "source": [
    "sudo systemctl restart NetworkManager"
   ]
  },
  {
   "cell_type": "markdown",
   "id": "62737c1d-3647-4d5a-9b9d-10843b0cef9d",
   "metadata": {},
   "source": [
    "Now I have an adress that looks like `2601:681:8b00:7e70:4091:1000:10:111`. The last 4 octets will not change. :botwie:"
   ]
  },
  {
   "cell_type": "markdown",
   "id": "45795e0e-c50e-4ba6-8ddb-38a0813d66e6",
   "metadata": {},
   "source": [
    "###### Reference: [ServerFault](https://serverfault.com/a/968644)"
   ]
  },
  {
   "cell_type": "code",
   "execution_count": 3,
   "id": "a747a16f-6897-4493-9cc5-fc643d26c833",
   "metadata": {},
   "outputs": [
    {
     "name": "stdout",
     "output_type": "stream",
     "text": [
      "[ssh] Closing existing connection.\n",
      "[ssh] Successfully logged out.\n"
     ]
    }
   ],
   "source": [
    "%logout"
   ]
  }
 ],
 "metadata": {
  "kernelspec": {
   "display_name": "SSH",
   "language": "bash",
   "name": "ssh"
  },
  "language_info": {
   "codemirror_mode": "shell",
   "file_extension": ".sh",
   "mimetype": "text/x-sh",
   "name": "ssh"
  }
 },
 "nbformat": 4,
 "nbformat_minor": 5
}
