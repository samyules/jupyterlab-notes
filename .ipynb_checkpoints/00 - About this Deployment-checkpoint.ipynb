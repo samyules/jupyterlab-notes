{
 "cells": [
  {
   "cell_type": "markdown",
   "id": "572f676a-16a5-4b54-8420-4750f14bc8e6",
   "metadata": {},
   "source": [
    "# JupyterLab Self-Hosted\n",
    "An adventure of hosting ops."
   ]
  },
  {
   "cell_type": "markdown",
   "id": "b06cffbb-b2aa-487f-a928-c9a89eb544c9",
   "metadata": {},
   "source": [
    "## Where I started\n",
    "Most of the tutorials for Jupyter involve bare-metal hosting using python virtual environments. A lot of people like using `conda` to manage the python environments and install packages. I found it to be somewhat limited compared to `pip`. I was able to isolate the `jupyter lab` server in a virtual environment, and I created a systemd service to start it automatically. But then I thought *why stop there?* I need it even more isolated. Why not use `docker`?"
   ]
  },
  {
   "cell_type": "markdown",
   "id": "50ab812c-c9c1-4043-ba13-10be25401bb0",
   "metadata": {},
   "source": [
    "## Docker(ized) Deployment\n",
    "The Jupyter organization has several off-the-shelf docker images available. They are steadily updated with the latest and greatest stuff. I also wanted to automate the deployment with my favorite docker tool, `docker compose`. This is hosted in the *ammocan* in a folder found at `home/samyules/docker-compose/JupyterLab`."
   ]
  },
  {
   "cell_type": "markdown",
   "id": "44724a55-e990-4e77-bd41-be54a0135438",
   "metadata": {},
   "source": [
    "### Host Docker Compose File Tree"
   ]
  },
  {
   "cell_type": "markdown",
   "id": "c038b7ca-65c7-4bd7-ac96-1a38cc8b905e",
   "metadata": {},
   "source": [
    "```text\n",
    "samyules@ammocan:~/docker-compose/JupyterLab$ tree\n",
    "\n",
    "│\n",
    "├── data\n",
    "│   ├── work   [ notebook storage ]\n",
    "│   ├── ssh    [ Persistent ssh keys ]\n",
    "│   └── config [ Persisitent git config --global ] \n",
    "├── compose.yaml\n",
    "├── Dockerfile\n",
    "└── requirements.txt\n",
    "```\n",
    "I updated the docker compose to reflect the final folder layout of the persistent volumes."
   ]
  },
  {
   "cell_type": "markdown",
   "id": "f9066c77-27d8-4b40-9077-cc245b0f7048",
   "metadata": {},
   "source": [
    "### Custom docker image with additional kernels"
   ]
  },
  {
   "cell_type": "markdown",
   "id": "408c866d-009d-4a8c-9123-cbdd90de59ed",
   "metadata": {},
   "source": [
    "#### Dockerfile"
   ]
  },
  {
   "cell_type": "markdown",
   "id": "8ff528e6-fa3d-441d-a870-0ee10c863563",
   "metadata": {},
   "source": [
    "```Dockerfile\n",
    "FROM quay.io/jupyter/minimal-notebook:2023-12-25\n",
    "\n",
    "ARG env_name=python310\n",
    "ARG py_ver=3.10\n",
    "\n",
    "# You can add additional libraries here\n",
    "RUN mamba create --yes -p \"${CONDA_DIR}/envs/${env_name}\" \\\n",
    "    python=${py_ver} \\\n",
    "    'ipykernel' \\\n",
    "    'jupyterlab' && \\\n",
    "    mamba clean --all -f -y\n",
    "\n",
    "# Create Python kernel and link it to jupyter\n",
    "RUN \"${CONDA_DIR}/envs/${env_name}/bin/python\" -m ipykernel install --user --name=\"${env_name}\" && \\\n",
    "    fix-permissions \"${CONDA_DIR}\" && \\\n",
    "    fix-permissions \"/home/${NB_USER}\"\n",
    "\n",
    "# Any additional `pip` installs can be added by using the following line\n",
    "# Using `mamba` is highly recommended though\n",
    "COPY --chown=${NB_UID}:${NB_GID} requirements.txt /tmp/\n",
    "RUN \"${CONDA_DIR}/envs/${env_name}/bin/pip\" install --no-cache-dir --requirement /tmp/requirements.txt && \\\n",
    "    fix-permissions \"${CONDA_DIR}\" && \\\n",
    "    fix-permissions \"/home/${NB_USER}\"\n",
    "\n",
    "# This changes the custom Python kernel so that the custom environment will\n",
    "# be activated for the respective Jupyter Notebook and Jupyter Console\n",
    "# hadolint ignore=DL3059\n",
    "RUN /opt/setup-scripts/activate_notebook_custom_env.py \"${env_name}\"\n",
    "\n",
    "# Comment the line above and uncomment the section below instead to activate the custom environment by default\n",
    "# Note: uncommenting this section makes \"${env_name}\" default both for Jupyter Notebook and Terminals\n",
    "# More information here: https://github.com/jupyter/docker-stacks/pull/2047\n",
    "USER root\n",
    "RUN \\\n",
    "     # This changes a startup hook, which will activate the custom environment for the process\n",
    "     echo conda activate \"${env_name}\" >> /usr/local/bin/before-notebook.d/10activate-conda-env.sh && \\\n",
    "     # This makes the custom environment default in Jupyter Terminals for all users which might be created later\n",
    "     echo conda activate \"${env_name}\" >> /etc/skel/.bashrc && \\\n",
    "     # This makes the custom environment default in Jupyter Terminals for already existing NB_USER\n",
    "     echo conda activate \"${env_name}\" >> \"/home/${NB_USER}/.bashrc\"\n",
    "\n",
    "USER ${NB_UID}\n",
    "\n",
    "# bash kernel install in ${env_name}\n",
    "RUN \"${CONDA_DIR}/envs/${env_name}/bin/python\" -m bash_kernel.install\n",
    "# finish sshkernel install\n",
    "RUN \"${CONDA_DIR}/envs/${env_name}/bin/python\" -m sshkernel install --user\n",
    "# RUN python -m bash_kernel.install\n",
    "\n",
    "# Install ijavascript\n",
    "# ijavascript build will fail without libzmq\n",
    "# See GitHub issue https://github.com/n-riesco/ijavascript/issues/184\n",
    "USER root\n",
    "RUN apt-get update --yes && \\\n",
    "    apt-get upgrade --yes && \\\n",
    "    apt-get install -yq libzmq3-dev build-essential python2.7\n",
    "\n",
    "RUN npm install -g ijavascript\n",
    "\n",
    "USER ${NB_UID}\n",
    "RUN ijsinstall\n",
    "\n",
    "# rebuild jupyter lab to finish installing plugins\n",
    "RUN jupyter lab build\n",
    "\n",
    "EXPOSE 8888\n",
    "CMD [\"start-notebook.py\", \"--IdentityProvider.token=''\", \"--ServerApp.root_dir=/home/jovyan/work\"]\n",
    "```"
   ]
  },
  {
   "cell_type": "markdown",
   "id": "bcbcd55d-7060-44c5-b16c-246fabe51ae3",
   "metadata": {},
   "source": [
    "#### requirements.txt"
   ]
  },
  {
   "cell_type": "markdown",
   "id": "e1787167-ecdc-4b87-9050-6e436edbe6b5",
   "metadata": {},
   "source": [
    "```text\n",
    "pyautogen\n",
    "jupyterlab-git\n",
    "ansible-kernel\n",
    "bash_kernel\n",
    "sshkernel\n",
    "nbclassic\n",
    "jupyterlab-notifications\n",
    "ntfy\n",
    "```"
   ]
  },
  {
   "cell_type": "markdown",
   "id": "190a3d4f-1721-450f-bb15-4b02f208d46d",
   "metadata": {},
   "source": [
    "#### compose.yaml"
   ]
  },
  {
   "cell_type": "markdown",
   "id": "5f3c9198-db26-4c18-acb4-aab80fdad6a5",
   "metadata": {},
   "source": [
    "```yaml\n",
    "services:\n",
    "  web:\n",
    "    build: .\n",
    "    ports:\n",
    "      - \"10000:8888\"\n",
    "    volumes:\n",
    "      - ./data/work:/home/jovyan/work\n",
    "      - ./data/ssh:/home/jovyan/.ssh\n",
    "      - ./data/config:/home/jovyan/.config\n",
    "      - /etc/localtime:/etc/localtime:ro #sync clock with host\n",
    "    environment:\n",
    "      - TZ=\"America/Denver\"\n",
    "      - RESTARTABLE=\"yes\"\n",
    "    restart: always\n",
    "```\n",
    "The volumes section has been updated to place all of the persistent data inside of the data/ folder. Originally I only had pesistent storage of notebooks in the work/ folder, but in order to use the jupyterlab-git plugin I need persistent ssh keys and persistent git config files."
   ]
  },
  {
   "cell_type": "markdown",
   "id": "6e834724-5572-428f-b2c3-12600df1706e",
   "metadata": {},
   "source": [
    "### Docker Compose commands"
   ]
  },
  {
   "cell_type": "code",
   "execution_count": null,
   "id": "eedd2f8e-b74f-4383-ac5b-06a82b220903",
   "metadata": {},
   "outputs": [],
   "source": [
    "# first time container build: run the  \n",
    "# following command from the project folder\n",
    "docker compose up"
   ]
  },
  {
   "cell_type": "code",
   "execution_count": null,
   "id": "2a198ea5-b8b9-44aa-ad6f-7f578db9fb27",
   "metadata": {
    "slideshow": {
     "slide_type": ""
    },
    "tags": []
   },
   "outputs": [],
   "source": [
    "# after making changes to the Dockerfile,\n",
    "# compose.yaml, or requirements.txt run\n",
    "docker compose build\n",
    "docker compose up"
   ]
  },
  {
   "cell_type": "markdown",
   "id": "73963362-184c-4c5b-9a0f-e1f66766151e",
   "metadata": {},
   "source": [
    "## Additional Options"
   ]
  },
  {
   "cell_type": "markdown",
   "id": "5fa82b04-eaca-4edd-9ae8-61f07b36dd21",
   "metadata": {},
   "source": [
    "### Notifications\n",
    "In the case of long-running processes, there is axtension available for JupyterLab that can send a notification when a process is complete. It is very creatively named: [juperterlab-notifications](https://github.com/mwakaba2/jupyterlab-notifications).\n",
    "\n",
    "Browser Notification\n",
    "\n",
    "<img src = \"https://user-images.githubusercontent.com/3497137/118382531-3275eb80-b5bc-11eb-9810-5b92183609c3.png\" align = \"center\" width = \"300\" >\n",
    "\n",
    "Mobile notification with NTFY app\n",
    "\n",
    "<img src = \"https://user-images.githubusercontent.com/3497137/136384645-843b8496-ad40-4c89-998b-ff46ea9f73a7.png\" align = \"center\" width = \"300\" >"
   ]
  },
  {
   "cell_type": "markdown",
   "id": "11161da0-ede3-4a82-a0f5-9a2723ec13d6",
   "metadata": {},
   "source": [
    "#### Install\n",
    "This extension can be installed wuth `pip`:"
   ]
  },
  {
   "cell_type": "code",
   "execution_count": null,
   "id": "5494ffe6-87a0-4995-b540-e1d901ce5d32",
   "metadata": {},
   "outputs": [],
   "source": [
    "pip install jupyterlab-notifications"
   ]
  },
  {
   "cell_type": "markdown",
   "id": "995a7f5a-fbcc-4426-af65-0e194bb15bfb",
   "metadata": {},
   "source": [
    "### Settings\n",
    "Use the following settings to update cell execution time for a notification and information to display in the notification. (in `Settings > Advanced Settings Editor`):\n",
    "```yaml\n",
    "{\n",
    "  // Notifications\n",
    "  // jupyterlab-notifications:plugin\n",
    "  // Settings for the Notifications extension\n",
    "  // ****************************************\n",
    "\n",
    "  // Cell Number Type\n",
    "  // Type of cell number to display when the report_cell_number is true. Select from 'cell_index' or ‘cell_execution_count'.\n",
    "  cell_number_type: 'cell_index',\n",
    "\n",
    "  // Enabled Status\n",
    "  // Enable the extension or not.\n",
    "  enabled: true,\n",
    "\n",
    "  // Trigger only for the last selected notebook cell execution.\n",
    "  // Trigger a notification only for the last selected executed notebook cell.\n",
    "  // NOTE: Only Available in version >= v0.3.0\n",
    "  last_cell_only: false,\n",
    "\n",
    "  // Minimum Notebook Cell Execution Time\n",
    "  // The minimum execution time to send out notification for a particular notebook cell (in seconds).\n",
    "  minimum_cell_execution_time: 60,\n",
    "\n",
    "  // Notification Methods\n",
    "  // Option to send a notification with the specified method(s). The available options are 'browser' and 'ntfy'.\n",
    "  notification_methods: ['browser'],\n",
    "\n",
    "  // Report Notebook Cell Execution Time\n",
    "  // Display notebook cell execution time in the notification.\n",
    "  // If last_cell_only is set to true, the total duration of the selected cells will be displayed.\n",
    "  report_cell_execution_time: true,\n",
    "\n",
    "  // Report Notebook Cell Number\n",
    "  // Display notebook cell number in the notification.\n",
    "  report_cell_number: true\n",
    "}\n",
    "```"
   ]
  },
  {
   "cell_type": "markdown",
   "id": "dd07a0d1-9a10-4601-acae-dad111b8443e",
   "metadata": {},
   "source": [
    "### Notifications using `ntfy`\n",
    "You can recieve mobile notifications via `ntfy`\n",
    "\n",
    "[ntfy 2.7.0 documentation](https://ntfy.readthedocs.io/en/latest/)\n",
    "> ntfy brings notification to your shell. It can automatically provide desktop notifications when long running code executions finish or it can send push notifications to your phone when a specific execution finishes."
   ]
  },
  {
   "cell_type": "markdown",
   "id": "ad1e57b2-854a-4ea9-9ac4-6bb5e49ac29f",
   "metadata": {},
   "source": [
    "#### Enable notifications via `ntfy`\n",
    "Install `ntfy`"
   ]
  },
  {
   "cell_type": "code",
   "execution_count": null,
   "id": "cca25f8a-9583-471b-8aa3-afa4103e04e3",
   "metadata": {
    "slideshow": {
     "slide_type": ""
    },
    "tags": []
   },
   "outputs": [],
   "source": [
    "pip install ntfy"
   ]
  },
  {
   "cell_type": "markdown",
   "id": "b1b29441-e006-43cf-abcd-b29b895f9d70",
   "metadata": {},
   "source": [
    "Create a configuration file for ntfy in `~/.config/ntfy/ntfy.yml`\n",
    "\n",
    "Note: You will need to install the Pushover mobile app and create an account to generate your user key.\n",
    "```yaml\n",
    "backends:\n",
    "  - pushover\n",
    "pushover:\n",
    "  user_key: YOUR_PUSHOVER_USER_KEY\n",
    "  ```"
   ]
  },
  {
   "cell_type": "markdown",
   "id": "50a3b92f-db59-4a94-9c26-13a5856e3604",
   "metadata": {},
   "source": [
    "Then change the `notification_methods` option to include `ntfy`.\n",
    "```yaml\n",
    "{\n",
    "  // Notification Methods\n",
    "  // Option to send a notification with the specified method(s). The available options are 'browser' and 'ntfy'.\n",
    "  notification_methods: ['browser', 'ntfy'],\n",
    "}\n",
    "```\n",
    "The `browser` method is for the standard browser notifications."
   ]
  }
 ],
 "metadata": {
  "kernelspec": {
   "display_name": "Bash",
   "language": "bash",
   "name": "bash"
  },
  "language_info": {
   "codemirror_mode": "shell",
   "file_extension": ".sh",
   "mimetype": "text/x-sh",
   "name": "bash"
  }
 },
 "nbformat": 4,
 "nbformat_minor": 5
}
